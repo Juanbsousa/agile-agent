{
  "nbformat": 4,
  "nbformat_minor": 0,
  "metadata": {
    "colab": {
      "provenance": [],
      "authorship_tag": "ABX9TyOSxblrIk9TxsQFWg7axHMi",
      "include_colab_link": true
    },
    "kernelspec": {
      "name": "python3",
      "display_name": "Python 3"
    },
    "language_info": {
      "name": "python"
    }
  },
  "cells": [
    {
      "cell_type": "markdown",
      "metadata": {
        "id": "view-in-github",
        "colab_type": "text"
      },
      "source": [
        "<a href=\"https://colab.research.google.com/github/trafaon/agile-agent/blob/main/CursoIA.ipynb\" target=\"_parent\"><img src=\"https://colab.research.google.com/assets/colab-badge.svg\" alt=\"Open In Colab\"/></a>"
      ]
    },
    {
      "cell_type": "code",
      "execution_count": null,
      "metadata": {
        "id": "zCK2awc_km37"
      },
      "outputs": [],
      "source": [
        "# Conectando o Google Colab ao GitHub\n",
        "# 1. Vá em `Arquivo > Salvar uma cópia no GitHub`.\n",
        "# 2. Se for a primeira vez, será necessário autorizar sua conta do GitHub.\n",
        "# 3. Escolha o repositório (ou crie um antes no GitHub).\n",
        "# 4. Escreva uma mensagem de commit (ex: `versão inicial`) e clique em **OK**.\n",
        "# 5. Toda vez que fizer mudanças, use o mesmo menu para salvar uma nova versão no GitHub.\n",
        "\n",
        "# > Dica: mantenha as mensagens de commit curtas e claras para facilitar o histórico do projeto."
      ]
    }
  ]
}